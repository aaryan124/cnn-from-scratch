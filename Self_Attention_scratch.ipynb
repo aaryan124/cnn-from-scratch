{
  "nbformat": 4,
  "nbformat_minor": 0,
  "metadata": {
    "colab": {
      "provenance": []
    },
    "kernelspec": {
      "name": "python3",
      "display_name": "Python 3"
    },
    "language_info": {
      "name": "python"
    }
  },
  "cells": [
    {
      "cell_type": "markdown",
      "source": [
        "Implementation"
      ],
      "metadata": {
        "id": "H9ijLjSl6lxj"
      }
    },
    {
      "cell_type": "code",
      "execution_count": 7,
      "metadata": {
        "id": "-Sh-zJf1hQR5"
      },
      "outputs": [],
      "source": [
        "import numpy as np\n",
        "\n",
        "def softmax(x, axis=-1):  # By default, last axis;\n",
        "    exps = np.exp(x - np.max(x, axis, keepdims=True))\n",
        "    return exps / np.sum(exps, axis=axis, keepdims=True)\n",
        "\n",
        "# J = diag(s) − s sᵀ ; dL_dx = J ⋅ dL_dy\n",
        "# dL_dx = J * dL_dy\n",
        "# When i == j, derivative is the same as single class: s(1 - s)\n",
        "# When i != j, derivative = -s_i * s_j. Why? Because of the quotient rule of differentiation.\n",
        "# J -> if i == j: s_i - s_i² = s_i(1 - s_i); else: 0 - s_i * s_j\n",
        "\n",
        "def dsoftmax(softmax_out, grad_out):\n",
        "    s = softmax_out\n",
        "    return s * (grad_out - np.sum(grad_out * s, axis=-1, keepdims=True))\n",
        "    # dL_dx = s_i * (dL_dy - sum dL_dy * s_j)\n",
        "    # Dot product is scalar\n",
        "    # Each component of s gets scaled by the same factor. The length of that vector depends on how grad aligns with s.\n",
        "    # s sᵀ is the outer product\n",
        "\n",
        "class SelfAttention:\n",
        "    def __init__(self, embed_dim):\n",
        "        self.embed_dim = embed_dim\n",
        "        # Weight matrices\n",
        "        self.W_q = np.random.randn(embed_dim, embed_dim) * 0.1\n",
        "        self.W_k = np.random.randn(embed_dim, embed_dim) * 0.1\n",
        "        self.W_v = np.random.randn(embed_dim, embed_dim) * 0.1\n",
        "        self.dW_q = np.zeros_like(self.W_q)\n",
        "        self.dW_k = np.zeros_like(self.W_k)\n",
        "        self.dW_v = np.zeros_like(self.W_v)\n",
        "\n",
        "    def forward(self, x):  # x has shape (seq_len, embed_dim)\n",
        "        self.x = x\n",
        "        self.Q = x @ self.W_q  # Same shape as x\n",
        "        self.K = x @ self.W_k\n",
        "        self.V = x @ self.W_v\n",
        "        scores = self.Q @ self.K.T / np.sqrt(self.embed_dim)  # Shape: (seq_len, seq_len), how much attention token i should pay to token j\n",
        "        # Divide by sqrt(embed_dim) for scaling to stabilize gradients\n",
        "        self.scale = np.sqrt(self.embed_dim)\n",
        "        self.weights = softmax(scores, axis=1)\n",
        "        output = self.weights @ self.V  # (seq_len, embed_dim), same shape as x\n",
        "        return output\n",
        "\n",
        "    def backward(self, d_out):\n",
        "        T, D = self.x.shape  # (seq_len, embed_dim)\n",
        "        d_weights = d_out @ self.V.T  # (seq_len, seq_len)\n",
        "        dV = self.weights.T @ d_out\n",
        "        dscores = dsoftmax(self.weights, d_weights) / self.scale  # As per dsoftmax function\n",
        "        dQ = dscores @ self.K  # shape (T, D)\n",
        "        dK = dscores.T @ self.Q  # shape (T, D)\n",
        "        self.dW_q += self.x.T @ dQ\n",
        "        self.dW_k += self.x.T @ dK\n",
        "        self.dW_v += self.x.T @ dV\n",
        "        dx_q = dQ @ self.W_q.T\n",
        "        dx_k = dK @ self.W_k.T\n",
        "        dx_v = dV @ self.W_v.T\n",
        "        dx = dx_q + dx_k + dx_v\n",
        "        return dx\n",
        "\n",
        "    def zero_grad(self):\n",
        "        self.dW_q.fill(0)\n",
        "        self.dW_k.fill(0)\n",
        "        self.dW_v.fill(0)\n"
      ]
    },
    {
      "cell_type": "markdown",
      "source": [
        "Testing Gradient flow"
      ],
      "metadata": {
        "id": "8rL_rOME6dPL"
      }
    },
    {
      "cell_type": "code",
      "source": [
        "np.random.seed(0)\n",
        "x = np.random.randn(4, 8)\n",
        "attn = SelfAttention(embed_dim=8)\n",
        "\n",
        "for epoch in range(100):\n",
        "    out = attn.forward(x)\n",
        "    loss = np.sum(out)  # dummy loss\n",
        "    dout = np.ones_like(out)\n",
        "\n",
        "    attn.zero_grad()\n",
        "    dx = attn.backward(dout)\n",
        "\n",
        "    # SGD\n",
        "    attn.W_q -= 0.01 * attn.dW_q\n",
        "    attn.W_k -= 0.01 * attn.dW_k\n",
        "    attn.W_v -= 0.01 * attn.dW_v\n",
        "\n",
        "    if epoch % 10 == 0:\n",
        "        print(f\"Epoch {epoch} | Loss: {loss:.4f}\")\n"
      ],
      "metadata": {
        "colab": {
          "base_uri": "https://localhost:8080/"
        },
        "id": "Hdz-7PL7ndRj",
        "outputId": "f750ba62-51c2-49b5-83c6-81e527c747fb"
      },
      "execution_count": 8,
      "outputs": [
        {
          "output_type": "stream",
          "name": "stdout",
          "text": [
            "Epoch 0 | Loss: -1.3954\n",
            "Epoch 10 | Loss: -41.1197\n",
            "Epoch 20 | Loss: -156.6300\n",
            "Epoch 30 | Loss: -347.9961\n",
            "Epoch 40 | Loss: -535.4889\n",
            "Epoch 50 | Loss: -722.7095\n",
            "Epoch 60 | Loss: -909.8796\n",
            "Epoch 70 | Loss: -1097.0331\n",
            "Epoch 80 | Loss: -1284.1794\n",
            "Epoch 90 | Loss: -1471.3220\n"
          ]
        }
      ]
    },
    {
      "cell_type": "code",
      "source": [],
      "metadata": {
        "id": "InstLb04nfS1"
      },
      "execution_count": 2,
      "outputs": []
    }
  ]
}