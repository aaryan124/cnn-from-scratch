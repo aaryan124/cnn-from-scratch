{
  "nbformat": 4,
  "nbformat_minor": 0,
  "metadata": {
    "colab": {
      "provenance": [],
      "gpuType": "T4"
    },
    "kernelspec": {
      "name": "python3",
      "display_name": "Python 3"
    },
    "language_info": {
      "name": "python"
    },
    "accelerator": "GPU"
  },
  "cells": [
    {
      "cell_type": "markdown",
      "source": [
        "# LSTM Implementation"
      ],
      "metadata": {
        "id": "NZKQaXmoFmEp"
      }
    },
    {
      "cell_type": "code",
      "source": [
        "import numpy as np\n",
        "\n",
        "def sigmoid(x):\n",
        "    return 1 / (1 + np.exp(-x))\n",
        "\n",
        "def dsigmoid(y):\n",
        "    return y * (1 - y)\n",
        "\n",
        "def dtanh(x):\n",
        "    return 1 - x**2"
      ],
      "metadata": {
        "id": "-TXGseHLl-h6"
      },
      "execution_count": 1,
      "outputs": []
    },
    {
      "cell_type": "code",
      "source": [
        "class LSTM:\n",
        "  def __init__(self,input_size,hidden_size):\n",
        "    self.input_size =input_size\n",
        "    self.hidden_size = hidden_size\n",
        "    concat_size = input_size + hidden_size\n",
        "    self.Wf = np.random.randn(hidden_size, concat_size) * 0.1 #forget\n",
        "    self.bf = np.zeros((hidden_size, 1))\n",
        "    self.Wi = np.random.randn(hidden_size, concat_size) * 0.1 #input\n",
        "    self.bi = np.zeros((hidden_size, 1))\n",
        "    self.Wg = np.random.randn(hidden_size, concat_size) * 0.1 #candidate\n",
        "    self.bg = np.zeros((hidden_size, 1))\n",
        "    self.Wo = np.random.randn(hidden_size, concat_size) * 0.1 #output\n",
        "    self.bo = np.zeros((hidden_size, 1))\n",
        "  def forward(self,inputs):\n",
        "    h_prev = np.zeros((self.hidden_size,1)) # short term\n",
        "    c_prev = np.zeros((self.hidden_size,1)) # long term\n",
        "    self.cache = []\n",
        "    for x_t in inputs:\n",
        "        x_t = x_t.reshape(-1, 1)\n",
        "        z = np.vstack((h_prev, x_t))\n",
        "\n",
        "        f = sigmoid(self.Wf @ z + self.bf) # range 0 to 1 ; 0 : forget ,1 : keep\n",
        "        i = sigmoid(self.Wi @ z + self.bi) # How much to write. 0: no write ,1 :full write\n",
        "        g = np.tanh(self.Wg @ z + self.bg) # candidate values to add .-1 ,1 or 0 or in between what to write\n",
        "        # i * g  means: \"these are the new things to remember\"\n",
        "        c = f * c_prev + i * g # f -> 0 forget c_prev completely,1 means keep c_prev as it is .\n",
        "        o = sigmoid(self.Wo @ z + self.bo) # How much memory you show\n",
        "        h = o * np.tanh(c)\n",
        "        #c can have large values.\n",
        "        #tanh(c) bounds it to [-1, 1] — just like we discussed earlier.\n",
        "        #Without this, h could be too large → unstable.\n",
        "        self.cache.append((f, i, g, o, c, h, c_prev, h_prev, z)) #You store everything needed to compute gradients later.\n",
        "        h_prev, c_prev = h, c\n",
        "        return h\n",
        "  def backward(self, dL_dh, lr=0.01):\n",
        "        dWf = np.zeros_like(self.Wf)\n",
        "        dWi = np.zeros_like(self.Wi)\n",
        "        dWg = np.zeros_like(self.Wg)\n",
        "        dWo = np.zeros_like(self.Wo)\n",
        "        dbf = np.zeros_like(self.bf)\n",
        "        dbi = np.zeros_like(self.bi)\n",
        "        dbg = np.zeros_like(self.bg)\n",
        "        dbo = np.zeros_like(self.bo)\n",
        "\n",
        "        dh_next = dL_dh # gradient of loss w.r.t. last hidden state given\n",
        "        dc_next = np.zeros((self.hidden_size, 1))\n",
        "\n",
        "        for t in reversed(range(len(self.cache))):\n",
        "            f, i, g, o, c, h, c_prev, h_prev, z = self.cache[t]\n",
        "\n",
        "            do = dh_next * np.tanh(c)\n",
        "            dco = dh_next * o * dtanh(np.tanh(c)) + dc_next\n",
        "\n",
        "            df = dco * c_prev\n",
        "            di = dco * g\n",
        "            dg = dco * i\n",
        "            dc_prev = dco * f\n",
        "\n",
        "            dzf = df * dsigmoid(f)\n",
        "            dzi = di * dsigmoid(i)\n",
        "            dzg = dg * dtanh(g)\n",
        "            dzo = do * dsigmoid(o)\n",
        "\n",
        "            dWf += dzf @ z.T\n",
        "            dWi += dzi @ z.T\n",
        "            dWg += dzg @ z.T\n",
        "            dWo += dzo @ z.T\n",
        "            dbf += dzf\n",
        "            dbi += dzi\n",
        "            dbg += dzg\n",
        "            dbo += dzo\n",
        "\n",
        "            dz = (\n",
        "                self.Wf.T @ dzf +\n",
        "                self.Wi.T @ dzi +\n",
        "                self.Wg.T @ dzg +\n",
        "                self.Wo.T @ dzo\n",
        "            )\n",
        "\n",
        "            dh_next = dz[:self.hidden_size, :]\n",
        "            dc_next = dc_prev\n",
        "\n",
        "        # Update parameters\n",
        "        for param, dparam in zip(\n",
        "            [self.Wf, self.Wi, self.Wg, self.Wo, self.bf, self.bi, self.bg, self.bo],\n",
        "            [dWf, dWi, dWg, dWo, dbf, dbi, dbg, dbo]\n",
        "        ):\n",
        "            param -= lr * dparam"
      ],
      "metadata": {
        "id": "wOKyYFe-rEu2"
      },
      "execution_count": 2,
      "outputs": []
    }
  ]
}